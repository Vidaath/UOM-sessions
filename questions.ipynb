{
 "cells": [
  {
   "cell_type": "code",
   "execution_count": 4,
   "id": "c31a0e7f",
   "metadata": {},
   "outputs": [
    {
     "data": {
      "text/plain": [
       "233168"
      ]
     },
     "execution_count": 4,
     "metadata": {},
     "output_type": "execute_result"
    }
   ],
   "source": [
    "#question 1\n",
    "def sum_of_multiples(limit):\n",
    "    sum=0\n",
    "    for i in range(limit):\n",
    "        if i % 3 == 0 or i % 5 == 0:\n",
    "            sum += i\n",
    "    return sum\n",
    "sum_of_multiples(1000)"
   ]
  },
  {
   "cell_type": "code",
   "execution_count": 14,
   "id": "937a26f5",
   "metadata": {},
   "outputs": [
    {
     "data": {
      "text/plain": [
       "4613732"
      ]
     },
     "execution_count": 14,
     "metadata": {},
     "output_type": "execute_result"
    }
   ],
   "source": [
    "#question 2\n",
    "def even_fibonacci_sum(limit):\n",
    "    b=1\n",
    "    even_sum = 0\n",
    "    fibbonacci_sequence = [1]\n",
    "    while b < limit:\n",
    "        if b % 2 == 0:\n",
    "            even_sum += b\n",
    "        fibbonacci_sequence.append(b)\n",
    "        b+=fibbonacci_sequence[-2] \n",
    "    return even_sum\n",
    "even_fibonacci_sum(4e6)"
   ]
  },
  {
   "cell_type": "code",
   "execution_count": 16,
   "id": "ef23910b",
   "metadata": {},
   "outputs": [
    {
     "data": {
      "text/plain": [
       "6857"
      ]
     },
     "execution_count": 16,
     "metadata": {},
     "output_type": "execute_result"
    }
   ],
   "source": [
    "#question 3\n",
    "def largest_prime_factor(n):\n",
    "    i = 2\n",
    "    while i * i <= n:\n",
    "        if n % i:\n",
    "            i += 1\n",
    "        else:\n",
    "            n //= i\n",
    "    if n > 1:\n",
    "        return n\n",
    "    return i\n",
    "largest_prime_factor(600851475143)\n"
   ]
  },
  {
   "cell_type": "code",
   "execution_count": null,
   "id": "b253a306",
   "metadata": {},
   "outputs": [],
   "source": [
    "#question 4\n",
    "def is_palindrome(n):\n",
    "    return str(n) == str(n)[::-1]"
   ]
  }
 ],
 "metadata": {
  "kernelspec": {
   "display_name": "base",
   "language": "python",
   "name": "python3"
  },
  "language_info": {
   "codemirror_mode": {
    "name": "ipython",
    "version": 3
   },
   "file_extension": ".py",
   "mimetype": "text/x-python",
   "name": "python",
   "nbconvert_exporter": "python",
   "pygments_lexer": "ipython3",
   "version": "3.9.13"
  }
 },
 "nbformat": 4,
 "nbformat_minor": 5
}
