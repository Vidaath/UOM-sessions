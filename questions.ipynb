{
 "cells": [
  {
   "cell_type": "code",
   "execution_count": 4,
   "id": "c31a0e7f",
   "metadata": {},
   "outputs": [
    {
     "data": {
      "text/plain": [
       "233168"
      ]
     },
     "execution_count": 4,
     "metadata": {},
     "output_type": "execute_result"
    }
   ],
   "source": [
    "#question 1\n",
    "def sum_of_multiples(limit):\n",
    "    sum=0\n",
    "    for i in range(limit):\n",
    "        if i % 3 == 0 or i % 5 == 0:\n",
    "            sum += i\n",
    "    return sum\n",
    "sum_of_multiples(1000)"
   ]
  },
  {
   "cell_type": "code",
   "execution_count": 14,
   "id": "937a26f5",
   "metadata": {},
   "outputs": [
    {
     "data": {
      "text/plain": [
       "4613732"
      ]
     },
     "execution_count": 14,
     "metadata": {},
     "output_type": "execute_result"
    }
   ],
   "source": [
    "#question 2\n",
    "def even_fibonacci_sum(limit):\n",
    "    b=1\n",
    "    even_sum = 0\n",
    "    fibbonacci_sequence = [1]\n",
    "    while b < limit:\n",
    "        if b % 2 == 0:\n",
    "            even_sum += b\n",
    "        fibbonacci_sequence.append(b)\n",
    "        b+=fibbonacci_sequence[-2] \n",
    "    return even_sum\n",
    "even_fibonacci_sum(4e6)"
   ]
  },
  {
   "cell_type": "code",
   "execution_count": 16,
   "id": "ef23910b",
   "metadata": {},
   "outputs": [
    {
     "data": {
      "text/plain": [
       "6857"
      ]
     },
     "execution_count": 16,
     "metadata": {},
     "output_type": "execute_result"
    }
   ],
   "source": [
    "#question 3\n",
    "def largest_prime_factor(n):\n",
    "    i = 2\n",
    "    while i * i <= n:\n",
    "        if n % i:\n",
    "            i += 1\n",
    "        else:\n",
    "            n //= i\n",
    "    if n > 1:\n",
    "        return n\n",
    "    return i\n",
    "largest_prime_factor(600851475143)\n"
   ]
  },
  {
   "cell_type": "code",
   "execution_count": null,
   "id": "b253a306",
   "metadata": {},
   "outputs": [
    {
     "data": {
      "text/plain": [
       "9009"
      ]
     },
     "execution_count": 1,
     "metadata": {},
     "output_type": "execute_result"
    }
   ],
   "source": [
    "#question 4\n",
    "def is_palindrome(n):\n",
    "    return str(n) == str(n)[::-1]\n",
    "def largest_palindrome_product(digits):\n",
    "    max_palindrome = 0\n",
    "    for i in range(10**digits - 1, 10**(digits - 1) - 1, -1):\n",
    "        for j in range(i, 10**(digits - 1) - 1, -1):\n",
    "            product = i * j\n",
    "            if is_palindrome(product) and product > max_palindrome:\n",
    "                max_palindrome = product\n",
    "    return max_palindrome\n",
    "largest_palindrome_product(3)"
   ]
  },
  {
   "cell_type": "code",
   "execution_count": null,
   "id": "db61c02e",
   "metadata": {},
   "outputs": [
    {
     "data": {
      "text/plain": [
       "232792560"
      ]
     },
     "execution_count": 3,
     "metadata": {},
     "output_type": "execute_result"
    }
   ],
   "source": [
    "#question 5\n",
    "import math\n",
    "def smallest_multiple(n):\n",
    "    multiple = 1\n",
    "    for i in range(2, n + 1):\n",
    "        multiple = math.lcm(multiple, i)\n",
    "    return multiple\n",
    "smallest_multiple(20)"
   ]
  },
  {
   "cell_type": "code",
   "execution_count": 4,
   "id": "afbed0fc",
   "metadata": {},
   "outputs": [
    {
     "data": {
      "text/plain": [
       "25164150"
      ]
     },
     "execution_count": 4,
     "metadata": {},
     "output_type": "execute_result"
    }
   ],
   "source": [
    "#question 6\n",
    "def sum_square_difference(n):\n",
    "    sum_of_squares = sum(i**2 for i in range(1, n + 1))\n",
    "    square_of_sum = sum(range(1, n + 1))**2\n",
    "    return square_of_sum - sum_of_squares\n",
    "sum_square_difference(100)\n"
   ]
  },
  {
   "cell_type": "code",
   "execution_count": 5,
   "id": "c9c20c36",
   "metadata": {},
   "outputs": [
    {
     "data": {
      "text/plain": [
       "104743"
      ]
     },
     "execution_count": 5,
     "metadata": {},
     "output_type": "execute_result"
    }
   ],
   "source": [
    "#question 7\n",
    "def nth_prime(n):\n",
    "    count = 0\n",
    "    num = 1\n",
    "    while count < n:\n",
    "        num += 1\n",
    "        for i in range(2, int(num**0.5) + 1):\n",
    "            if num % i == 0:\n",
    "                break\n",
    "        else:\n",
    "            count += 1\n",
    "    return num\n",
    "\n",
    "nth_prime(10001)"
   ]
  },
  {
   "cell_type": "code",
   "execution_count": 7,
   "id": "dc7cba74",
   "metadata": {},
   "outputs": [
    {
     "data": {
      "text/plain": [
       "23514624000"
      ]
     },
     "execution_count": 7,
     "metadata": {},
     "output_type": "execute_result"
    }
   ],
   "source": [
    "#question 8\n",
    "def largest_product_in_series(series, n):\n",
    "    max_product = 0\n",
    "    for i in range(len(series) - n + 1):\n",
    "        product = 1\n",
    "        for j in range(n):\n",
    "            product *= int(series[i + j])\n",
    "        if product > max_product:\n",
    "            max_product = product\n",
    "    return max_product\n",
    "series = \"7316717653133062491922511967442657474235534919493496983520312774506326239578318016984801869478851843858615607891129494954595017379583319528532088055111254069874715852386305071569329096329522744304355766896648950445244523161731856403098711121722383113622298934233803081353362766142828064444866452387493035890729629049156044077239071381051585930796086670172427121883998797908792274921901699720888093776657273330010533678812202354218097512545405947522435258490771167055601360483958644670632441572215539753697817977846174064955149290862569321978468622482839722413756570560574902614079729686524145351004748216637048440319989000889524345065854122758866688116427171479924442928230863465674813919123162824586178664583591245665294765456828489128831426076900422421902267105562632111110937054421750694165896040807198403850962455444362981230987879927244284909188845801561660979191338754992005240636899125607176060588611646710940507754100225698315520005593572972571636269561882670428252483600823257530420752963450\"\n",
    "largest_product_in_series(series, 13)"
   ]
  },
  {
   "cell_type": "code",
   "execution_count": 8,
   "id": "9488c509",
   "metadata": {},
   "outputs": [
    {
     "data": {
      "text/plain": [
       "31875000"
      ]
     },
     "execution_count": 8,
     "metadata": {},
     "output_type": "execute_result"
    }
   ],
   "source": [
    "#question 9\n",
    "def special_pythagorean_triplet(sum_total):\n",
    "    for a in range(1, sum_total):\n",
    "        for b in range(a, sum_total - a):\n",
    "            c = sum_total - a - b\n",
    "            if a**2 + b**2 == c**2:\n",
    "                return a * b * c\n",
    "    return None     \n",
    "special_pythagorean_triplet(1000)"
   ]
  },
  {
   "cell_type": "code",
   "execution_count": null,
   "id": "e5de8861",
   "metadata": {},
   "outputs": [],
   "source": [
    "#question 10\n",
    "def sum_of_primes(limit):\n",
    "    sieve = [True] * limit\n",
    "    sieve[0] = sieve[1] = False\n",
    "    for i in range(2, int(limit**0.5) + 1):\n",
    "        if sieve[i]:\n",
    "            for j in range(i*i, limit, i):\n",
    "                sieve[j] = False\n",
    "    return sum(i for i, is_prime in enumerate(sieve) if is_prime)\n",
    "sum_of_primes(2000000)\n"
   ]
  }
 ],
 "metadata": {
  "kernelspec": {
   "display_name": "base",
   "language": "python",
   "name": "python3"
  },
  "language_info": {
   "codemirror_mode": {
    "name": "ipython",
    "version": 3
   },
   "file_extension": ".py",
   "mimetype": "text/x-python",
   "name": "python",
   "nbconvert_exporter": "python",
   "pygments_lexer": "ipython3",
   "version": "3.9.13"
  }
 },
 "nbformat": 4,
 "nbformat_minor": 5
}
